{
 "cells": [
  {
   "cell_type": "code",
   "execution_count": 2,
   "id": "ce2ae37a-99e9-4c69-9d53-b16152355d4c",
   "metadata": {},
   "outputs": [],
   "source": [
    "from datetime import date  # Import the date class from the datetime module\n",
    "\n",
    "today = date.today()  # Get the current date\n",
    "date_string = today.isoformat()  # Convert the date to a string in ISO format (YYYY-MM-DD)\n",
    "\n",
    "with open(\"today.txt\", \"w\") as file:  # Open a file named today.txt in write mode\n",
    "    file.write(date_string)  # Write the date string to the file\n"
   ]
  },
  {
   "cell_type": "code",
   "execution_count": 8,
   "id": "36d5fd89-58de-485b-8ddf-024f598990f4",
   "metadata": {},
   "outputs": [
    {
     "name": "stdout",
     "output_type": "stream",
     "text": [
      "2025-04-25\n"
     ]
    }
   ],
   "source": [
    "with open(\"today.txt\", \"r\") as file:  # Open the file today.txt in read mode\n",
    "    today_string = file.read()  # Read the entire contents of the file into a string\n",
    "print (today_string)"
   ]
  },
  {
   "cell_type": "code",
   "execution_count": 10,
   "id": "1e0c04a6-4a05-4a28-bef5-14565590e7ba",
   "metadata": {},
   "outputs": [],
   "source": [
    "from datetime import datetime  # Import datetime class for parsing\n",
    "\n",
    "# Parse the string using the same format it was written in (ISO format: YYYY-MM-DD)\n",
    "parsed_date = datetime.strptime(today_string, \"%Y-%m-%d\").date()  # Convert string to date object\n"
   ]
  },
  {
   "cell_type": "code",
   "execution_count": null,
   "id": "83c67aa5-f499-4f53-8e18-4a05fbb4f312",
   "metadata": {},
   "outputs": [],
   "source": []
  }
 ],
 "metadata": {
  "kernelspec": {
   "display_name": "Python [conda env:base] *",
   "language": "python",
   "name": "conda-base-py"
  },
  "language_info": {
   "codemirror_mode": {
    "name": "ipython",
    "version": 3
   },
   "file_extension": ".py",
   "mimetype": "text/x-python",
   "name": "python",
   "nbconvert_exporter": "python",
   "pygments_lexer": "ipython3",
   "version": "3.12.7"
  }
 },
 "nbformat": 4,
 "nbformat_minor": 5
}
