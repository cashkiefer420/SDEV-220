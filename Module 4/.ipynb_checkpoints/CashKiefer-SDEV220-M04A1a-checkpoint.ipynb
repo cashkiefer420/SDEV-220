{
 "cells": [
  {
   "cell_type": "code",
   "execution_count": 4,
   "id": "bb83f947-50ff-4923-947d-844b8ddec4e5",
   "metadata": {},
   "outputs": [
    {
     "ename": "ModuleNotFoundError",
     "evalue": "No module named 'zoo.py'; 'zoo' is not a package",
     "output_type": "error",
     "traceback": [
      "\u001b[0;31m---------------------------------------------------------------------------\u001b[0m",
      "\u001b[0;31mModuleNotFoundError\u001b[0m                       Traceback (most recent call last)",
      "Cell \u001b[0;32mIn[4], line 1\u001b[0m\n\u001b[0;32m----> 1\u001b[0m \u001b[38;5;28;01mimport\u001b[39;00m \u001b[38;5;21;01mzoo\u001b[39;00m\u001b[38;5;21;01m.\u001b[39;00m\u001b[38;5;21;01mpy\u001b[39;00m \u001b[38;5;66;03m# Import the zoo module\u001b[39;00m\n\u001b[1;32m      2\u001b[0m zoo\u001b[38;5;241m.\u001b[39mhours()\n",
      "\u001b[0;31mModuleNotFoundError\u001b[0m: No module named 'zoo.py'; 'zoo' is not a package"
     ]
    }
   ],
   "source": [
    "import zoo.py # Import the zoo module\n",
    "zoo.hours()  # Call the hours function\n"
   ]
  },
  {
   "cell_type": "code",
   "execution_count": null,
   "id": "cb916af6-5008-4845-a08d-a539bf98798e",
   "metadata": {},
   "outputs": [],
   "source": []
  }
 ],
 "metadata": {
  "kernelspec": {
   "display_name": "Python [conda env:base] *",
   "language": "python",
   "name": "conda-base-py"
  },
  "language_info": {
   "codemirror_mode": {
    "name": "ipython",
    "version": 3
   },
   "file_extension": ".py",
   "mimetype": "text/x-python",
   "name": "python",
   "nbconvert_exporter": "python",
   "pygments_lexer": "ipython3",
   "version": "3.12.7"
  }
 },
 "nbformat": 4,
 "nbformat_minor": 5
}
