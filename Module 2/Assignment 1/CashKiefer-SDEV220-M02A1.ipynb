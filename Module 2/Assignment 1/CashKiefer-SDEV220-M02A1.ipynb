{
 "cells": [
  {
   "cell_type": "code",
   "execution_count": 15,
   "id": "425b46bb-fa2a-45e1-a7bb-73fb72f7e342",
   "metadata": {},
   "outputs": [],
   "source": [
    "#Assigning the secret number\n",
    "secret = 7"
   ]
  },
  {
   "cell_type": "code",
   "execution_count": 17,
   "id": "7c1d6007-511b-414a-9295-5025dabe5430",
   "metadata": {},
   "outputs": [],
   "source": [
    "#Assigning the guessed number\n",
    "guess = 5"
   ]
  },
  {
   "cell_type": "code",
   "execution_count": 19,
   "id": "861d8836-f6ef-4d04-bf8a-9cf7edc63f20",
   "metadata": {},
   "outputs": [
    {
     "name": "stdout",
     "output_type": "stream",
     "text": [
      "too low\n"
     ]
    }
   ],
   "source": [
    "#Conditional testing to compare guess with secret\n",
    "if guess < secret:\n",
    "    print(\"too low\")\n",
    "elif guess > secret:\n",
    "    print(\"too high\")\n",
    "else:\n",
    "    print(\"just right\")"
   ]
  }
 ],
 "metadata": {
  "kernelspec": {
   "display_name": "Python [conda env:base] *",
   "language": "python",
   "name": "conda-base-py"
  },
  "language_info": {
   "codemirror_mode": {
    "name": "ipython",
    "version": 3
   },
   "file_extension": ".py",
   "mimetype": "text/x-python",
   "name": "python",
   "nbconvert_exporter": "python",
   "pygments_lexer": "ipython3",
   "version": "3.12.7"
  }
 },
 "nbformat": 4,
 "nbformat_minor": 5
}
