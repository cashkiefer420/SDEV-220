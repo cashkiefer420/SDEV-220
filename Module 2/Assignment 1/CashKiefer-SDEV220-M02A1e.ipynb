{
 "cells": [
  {
   "cell_type": "code",
   "execution_count": 2,
   "id": "3d6f7c7d-d0e9-4f89-8cea-f8adc527af56",
   "metadata": {},
   "outputs": [],
   "source": [
    "# Assign value to guess_me\n",
    "guess_me = 5"
   ]
  },
  {
   "cell_type": "code",
   "execution_count": null,
   "id": "105c642c-14a2-4858-a85e-8d354db333ee",
   "metadata": {},
   "outputs": [],
   "source": [
    "# Loop through numbers from 0 to 9\n",
    "for number in range(10):\n",
    "    if number < guess_me:\n",
    "        print(\"too low\")  # If number is less than guess_me\n",
    "    elif number == guess_me:\n",
    "        print(\"found it!\")  # If number matches guess_me\n",
    "        break  # Exit the loop\n",
    "    else:\n",
    "        print(\"oops\")  # If number is greater than guess_me\n",
    "        break  # Exit the loop"
   ]
  }
 ],
 "metadata": {
  "kernelspec": {
   "display_name": "Python [conda env:base] *",
   "language": "python",
   "name": "conda-base-py"
  },
  "language_info": {
   "codemirror_mode": {
    "name": "ipython",
    "version": 3
   },
   "file_extension": ".py",
   "mimetype": "text/x-python",
   "name": "python",
   "nbconvert_exporter": "python",
   "pygments_lexer": "ipython3",
   "version": "3.12.7"
  }
 },
 "nbformat": 4,
 "nbformat_minor": 5
}
