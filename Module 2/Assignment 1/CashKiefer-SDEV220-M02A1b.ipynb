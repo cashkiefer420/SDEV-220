{
 "cells": [
  {
   "cell_type": "code",
   "execution_count": 2,
   "id": "c90a76be-6a2a-48b3-acee-a59bf9fa5088",
   "metadata": {},
   "outputs": [],
   "source": [
    "#Assign true or false to small and green\n",
    "small = True\n",
    "green = True"
   ]
  },
  {
   "cell_type": "code",
   "execution_count": null,
   "id": "4acd5b39-d73f-4dae-96e1-aaaa90ae69c3",
   "metadata": {},
   "outputs": [],
   "source": [
    "#Check conditions and print the matching item\n",
    "if small and green:\n",
    "    print(\"pea\")  # Small and green\n",
    "elif small and not green:\n",
    "    print(\"cherry\")  # Small but not green\n",
    "elif not small and green:\n",
    "    print(\"watermelon\")  # Not small but green\n",
    "else:\n",
    "    print(\"pumpkin\")  # Not small and not green"
   ]
  }
 ],
 "metadata": {
  "kernelspec": {
   "display_name": "Python [conda env:base] *",
   "language": "python",
   "name": "conda-base-py"
  },
  "language_info": {
   "codemirror_mode": {
    "name": "ipython",
    "version": 3
   },
   "file_extension": ".py",
   "mimetype": "text/x-python",
   "name": "python",
   "nbconvert_exporter": "python",
   "pygments_lexer": "ipython3",
   "version": "3.12.7"
  }
 },
 "nbformat": 4,
 "nbformat_minor": 5
}
