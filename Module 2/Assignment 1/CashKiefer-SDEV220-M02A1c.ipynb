{
 "cells": [
  {
   "cell_type": "code",
   "execution_count": 2,
   "id": "a7d72506-7fac-413c-97ec-8ab13979db7b",
   "metadata": {},
   "outputs": [],
   "source": [
    "# Define the list\n",
    "numbers = [3, 2, 1, 0]"
   ]
  },
  {
   "cell_type": "code",
   "execution_count": null,
   "id": "87e7e33e-a541-4b45-9faf-3233db78fdf1",
   "metadata": {},
   "outputs": [],
   "source": [
    "# Loop through the list and print each value\n",
    "for number in numbers:\n",
    "    print(number)"
   ]
  }
 ],
 "metadata": {
  "kernelspec": {
   "display_name": "Python [conda env:base] *",
   "language": "python",
   "name": "conda-base-py"
  },
  "language_info": {
   "codemirror_mode": {
    "name": "ipython",
    "version": 3
   },
   "file_extension": ".py",
   "mimetype": "text/x-python",
   "name": "python",
   "nbconvert_exporter": "python",
   "pygments_lexer": "ipython3",
   "version": "3.12.7"
  }
 },
 "nbformat": 4,
 "nbformat_minor": 5
}
