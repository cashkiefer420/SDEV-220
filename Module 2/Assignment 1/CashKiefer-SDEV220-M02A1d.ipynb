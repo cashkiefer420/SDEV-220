{
 "cells": [
  {
   "cell_type": "code",
   "execution_count": 2,
   "id": "9955061f-1c06-43b4-8985-aa550c01d3b6",
   "metadata": {},
   "outputs": [],
   "source": [
    "# Assign values to variables\n",
    "guess_me = 7\n",
    "number = 1"
   ]
  },
  {
   "cell_type": "code",
   "execution_count": null,
   "id": "2fcfd00d-5249-4487-b127-a601ab04399f",
   "metadata": {},
   "outputs": [],
   "source": [
    "# While loop to compare number with guess_me\n",
    "while number <= guess_me:\n",
    "    if number < guess_me:\n",
    "        print(\"too low\")  # If number is less than guess_me\n",
    "    elif number == guess_me:\n",
    "        print(\"found it!\")  # If number matches guess_me\n",
    "        break  # Exit the loop\n",
    "    number += 1  # Increment number"
   ]
  },
  {
   "cell_type": "code",
   "execution_count": null,
   "id": "0ea72c1f-6697-4ecd-857d-1a27f357d578",
   "metadata": {},
   "outputs": [],
   "source": [
    "# If the loop exits naturally and number is greater than guess_me\n",
    "if number > guess_me:\n",
    "    print(\"oops\")  # Number went past guess_me"
   ]
  }
 ],
 "metadata": {
  "kernelspec": {
   "display_name": "Python [conda env:base] *",
   "language": "python",
   "name": "conda-base-py"
  },
  "language_info": {
   "codemirror_mode": {
    "name": "ipython",
    "version": 3
   },
   "file_extension": ".py",
   "mimetype": "text/x-python",
   "name": "python",
   "nbconvert_exporter": "python",
   "pygments_lexer": "ipython3",
   "version": "3.12.7"
  }
 },
 "nbformat": 4,
 "nbformat_minor": 5
}
