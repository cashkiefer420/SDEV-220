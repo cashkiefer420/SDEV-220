{
 "cells": [
  {
   "cell_type": "code",
   "execution_count": 2,
   "id": "2ffa7447-3b2f-42a6-bda8-b8f36abb8540",
   "metadata": {},
   "outputs": [
    {
     "name": "stdout",
     "output_type": "stream",
     "text": [
      "['Harry', 'Ron', 'Hermione']\n"
     ]
    }
   ],
   "source": [
    "# Defining the function that returns the list of names\n",
    "def good():\n",
    "    return [\"Harry\", \"Ron\", \"Hermione\"]\n",
    "\n",
    "# Calling the function and printing the result\n",
    "print(good())\n"
   ]
  },
  {
   "cell_type": "code",
   "execution_count": 4,
   "id": "7a1453eb-3f89-41de-b9f5-10a4afc55700",
   "metadata": {},
   "outputs": [
    {
     "name": "stdout",
     "output_type": "stream",
     "text": [
      "The third odd number is: 5\n"
     ]
    }
   ],
   "source": [
    "# Defining the generator function that yields odd numbers from range(10)\n",
    "def get_odds():\n",
    "    for num in range(10):\n",
    "        if num % 2 == 1:  # Checking if the number is odd\n",
    "            yield num  # Yielding the odd number\n",
    "\n",
    "# Using a for loop to get the third odd number\n",
    "count = 0\n",
    "for odd in get_odds():\n",
    "    count += 1\n",
    "    if count == 3:  # Stopping at the third odd number\n",
    "        print(\"The third odd number is:\", odd)\n",
    "        break\n"
   ]
  },
  {
   "cell_type": "code",
   "execution_count": null,
   "id": "c0a2b9af-4ae1-457b-918f-00722308d179",
   "metadata": {},
   "outputs": [],
   "source": []
  }
 ],
 "metadata": {
  "kernelspec": {
   "display_name": "Python [conda env:base] *",
   "language": "python",
   "name": "conda-base-py"
  },
  "language_info": {
   "codemirror_mode": {
    "name": "ipython",
    "version": 3
   },
   "file_extension": ".py",
   "mimetype": "text/x-python",
   "name": "python",
   "nbconvert_exporter": "python",
   "pygments_lexer": "ipython3",
   "version": "3.12.7"
  }
 },
 "nbformat": 4,
 "nbformat_minor": 5
}
