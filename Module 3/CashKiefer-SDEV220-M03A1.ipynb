{
 "cells": [
  {
   "cell_type": "code",
   "execution_count": 2,
   "id": "3350ea69-066c-4dc8-b7e8-4575a540fb86",
   "metadata": {},
   "outputs": [
    {
     "name": "stdout",
     "output_type": "stream",
     "text": [
      "['mozzarella', 'cinderella', 'salmonella']\n"
     ]
    }
   ],
   "source": [
    "# Creating a list with the specified elements\n",
    "things = [\"mozzarella\", \"cinderella\", \"salmonella\"]\n",
    "\n",
    "# Printing the list to verify\n",
    "print(things)"
   ]
  },
  {
   "cell_type": "code",
   "execution_count": 6,
   "id": "50bdf75c-6060-4ff7-bb4c-01d6479ca4b7",
   "metadata": {},
   "outputs": [
    {
     "name": "stdout",
     "output_type": "stream",
     "text": [
      "['mozzarella', 'Cinderella', 'salmonella']\n"
     ]
    }
   ],
   "source": [
    "# Capitalizing the element referring to a person\n",
    "things[1] = things[1].capitalize()\n",
    "\n",
    "# Printing the list to check if it changed\n",
    "print(things)\n",
    "#ELEMENT IS CHANGED"
   ]
  },
  {
   "cell_type": "code",
   "execution_count": 8,
   "id": "7872fea0-597a-4125-a705-1ec941e2cfd2",
   "metadata": {},
   "outputs": [
    {
     "name": "stdout",
     "output_type": "stream",
     "text": [
      "['MOZZARELLA', 'Cinderella', 'salmonella']\n"
     ]
    }
   ],
   "source": [
    "#Completely capitalizing mozzerella\n",
    "things[0] = things[0].upper()\n",
    "\n",
    "# Printing the list to check if it changed\n",
    "print(things)"
   ]
  },
  {
   "cell_type": "code",
   "execution_count": null,
   "id": "24b2cde9-524d-46e9-ba96-6d679bb100dc",
   "metadata": {},
   "outputs": [],
   "source": []
  }
 ],
 "metadata": {
  "kernelspec": {
   "display_name": "Python [conda env:base] *",
   "language": "python",
   "name": "conda-base-py"
  },
  "language_info": {
   "codemirror_mode": {
    "name": "ipython",
    "version": 3
   },
   "file_extension": ".py",
   "mimetype": "text/x-python",
   "name": "python",
   "nbconvert_exporter": "python",
   "pygments_lexer": "ipython3",
   "version": "3.12.7"
  }
 },
 "nbformat": 4,
 "nbformat_minor": 5
}
